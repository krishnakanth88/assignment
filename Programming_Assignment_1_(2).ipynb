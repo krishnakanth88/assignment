{
  "cells": [
    {
      "cell_type": "markdown",
      "id": "637b47a5",
      "metadata": {
        "id": "637b47a5"
      },
      "source": [
        "## Programming Assignment_1\n",
        "-------------"
      ]
    },
    {
      "cell_type": "markdown",
      "id": "0c647dbe",
      "metadata": {
        "id": "0c647dbe"
      },
      "source": [
        "### 1. Write a Python program to print \"Hello Python\"?"
      ]
    },
    {
      "cell_type": "code",
      "source": [
        "print('Hello Python')"
      ],
      "metadata": {
        "id": "w6fgQEoNiUdR"
      },
      "id": "w6fgQEoNiUdR",
      "execution_count": null,
      "outputs": []
    },
    {
      "cell_type": "markdown",
      "id": "fc18a6cd",
      "metadata": {
        "id": "fc18a6cd"
      },
      "source": [
        "### 2. Write a Python program to do arithmetical operations addition and division.?\n"
      ]
    },
    {
      "cell_type": "code",
      "source": [
        "a = 1\n",
        "b=2\n",
        "\n",
        "print(a+b)\n",
        "print(a/b)"
      ],
      "metadata": {
        "id": "hJt0NDTOiZe2"
      },
      "id": "hJt0NDTOiZe2",
      "execution_count": null,
      "outputs": []
    },
    {
      "cell_type": "markdown",
      "id": "af6e2429",
      "metadata": {
        "id": "af6e2429"
      },
      "source": [
        "### 3. Write a Python program to find the area of a triangle?\n"
      ]
    },
    {
      "cell_type": "code",
      "source": [
        "def area_of_triangle(base,height):\n",
        "    return 0.5*base*height"
      ],
      "metadata": {
        "id": "pP2Wdu_9iuwh"
      },
      "id": "pP2Wdu_9iuwh",
      "execution_count": null,
      "outputs": []
    },
    {
      "cell_type": "markdown",
      "id": "b8140061",
      "metadata": {
        "id": "b8140061"
      },
      "source": [
        "### 4. Write a Python program to swap two variables?\n"
      ]
    },
    {
      "cell_type": "code",
      "source": [
        "def swap(a,b):\n",
        "    a,b = b,a\n",
        "    return a,b"
      ],
      "metadata": {
        "id": "ki59yOt-jCNU"
      },
      "id": "ki59yOt-jCNU",
      "execution_count": null,
      "outputs": []
    },
    {
      "cell_type": "markdown",
      "id": "3f8054c1",
      "metadata": {
        "id": "3f8054c1"
      },
      "source": [
        "### 5. Write a Python program to generate a random number?\n"
      ]
    },
    {
      "cell_type": "code",
      "source": [
        "def random_num(start=0, end=100000):\n",
        "    return np.random.randint(start,end)"
      ],
      "metadata": {
        "id": "MocAGQrrjGut"
      },
      "id": "MocAGQrrjGut",
      "execution_count": null,
      "outputs": []
    }
  ],
  "metadata": {
    "kernelspec": {
      "display_name": "Python 3 (ipykernel)",
      "language": "python",
      "name": "python3"
    },
    "language_info": {
      "codemirror_mode": {
        "name": "ipython",
        "version": 3
      },
      "file_extension": ".py",
      "mimetype": "text/x-python",
      "name": "python",
      "nbconvert_exporter": "python",
      "pygments_lexer": "ipython3",
      "version": "3.9.12"
    },
    "colab": {
      "provenance": []
    }
  },
  "nbformat": 4,
  "nbformat_minor": 5
}